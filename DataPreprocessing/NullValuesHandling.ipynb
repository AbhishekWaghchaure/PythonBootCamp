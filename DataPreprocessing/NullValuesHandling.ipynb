{
 "cells": [
  {
   "cell_type": "code",
   "execution_count": 54,
   "metadata": {
    "collapsed": true
   },
   "outputs": [
    {
     "name": "stdout",
     "output_type": "stream",
     "text": [
      "   Country   Age   Salary Purchased\n",
      "0   France  44.0  72000.0       Yes\n",
      "1    Spain  27.0  48000.0       Yes\n",
      "2      NaN  30.0  54000.0       NaN\n",
      "3    Spain  38.0  61000.0        No\n",
      "4  Germany  40.0      NaN       Yes\n",
      "5   France  35.0  58000.0       Yes\n",
      "6    Spain   NaN  52000.0        No\n",
      "7   France  48.0  79000.0       Yes\n",
      "8  Germany  50.0  83000.0        No\n",
      "9   France  37.0  67000.0       Yes\n"
     ]
    }
   ],
   "source": [
    "import pandas as pd\n",
    "from sklearn.impute import SimpleImputer\n",
    "import numpy as np\n",
    "df = pd.read_csv(\"Data.csv\")\n",
    "print(df)"
   ]
  },
  {
   "cell_type": "code",
   "execution_count": 55,
   "outputs": [
    {
     "name": "stdout",
     "output_type": "stream",
     "text": [
      "Country      1\n",
      "Age          1\n",
      "Salary       1\n",
      "Purchased    1\n",
      "dtype: int64\n"
     ]
    }
   ],
   "source": [
    "print(df.isnull().sum())"
   ],
   "metadata": {
    "collapsed": false
   }
  },
  {
   "cell_type": "markdown",
   "source": [
    "First approach to remove null values by drop na"
   ],
   "metadata": {
    "collapsed": false
   }
  },
  {
   "cell_type": "code",
   "execution_count": 56,
   "outputs": [
    {
     "name": "stdout",
     "output_type": "stream",
     "text": [
      "   Country   Age   Salary Purchased\n",
      "0   France  44.0  72000.0       Yes\n",
      "1    Spain  27.0  48000.0       Yes\n",
      "3    Spain  38.0  61000.0        No\n",
      "5   France  35.0  58000.0       Yes\n",
      "7   France  48.0  79000.0       Yes\n",
      "8  Germany  50.0  83000.0        No\n",
      "9   France  37.0  67000.0       Yes\n"
     ]
    }
   ],
   "source": [
    "dropNaApproach = df.dropna()\n",
    "print(dropNaApproach)"
   ],
   "metadata": {
    "collapsed": false
   }
  },
  {
   "cell_type": "markdown",
   "source": [
    "Second approach by Imputers filling out the null values"
   ],
   "metadata": {
    "collapsed": false
   }
  },
  {
   "cell_type": "code",
   "execution_count": 57,
   "outputs": [],
   "source": [
    "imputer = SimpleImputer(missing_values=np.nan, strategy='mean')"
   ],
   "metadata": {
    "collapsed": false
   }
  },
  {
   "cell_type": "code",
   "execution_count": 62,
   "outputs": [
    {
     "name": "stdout",
     "output_type": "stream",
     "text": [
      "         Age        Salary\n",
      "0  44.000000  72000.000000\n",
      "1  27.000000  48000.000000\n",
      "2  30.000000  54000.000000\n",
      "3  38.000000  61000.000000\n",
      "4  40.000000  63777.777778\n",
      "5  35.000000  58000.000000\n",
      "6  38.777778  52000.000000\n",
      "7  48.000000  79000.000000\n",
      "8  50.000000  83000.000000\n",
      "9  37.000000  67000.000000\n"
     ]
    }
   ],
   "source": [
    "print(df.iloc[:,1:3])"
   ],
   "metadata": {
    "collapsed": false
   }
  },
  {
   "cell_type": "code",
   "execution_count": 59,
   "outputs": [
    {
     "data": {
      "text/plain": "SimpleImputer()"
     },
     "execution_count": 59,
     "metadata": {},
     "output_type": "execute_result"
    }
   ],
   "source": [
    "imputer.fit(df.iloc[:,1:3].values)"
   ],
   "metadata": {
    "collapsed": false
   }
  },
  {
   "cell_type": "code",
   "execution_count": 60,
   "outputs": [
    {
     "name": "stdout",
     "output_type": "stream",
     "text": [
      "[[4.40000000e+01 7.20000000e+04]\n",
      " [2.70000000e+01 4.80000000e+04]\n",
      " [3.00000000e+01 5.40000000e+04]\n",
      " [3.80000000e+01 6.10000000e+04]\n",
      " [4.00000000e+01 6.37777778e+04]\n",
      " [3.50000000e+01 5.80000000e+04]\n",
      " [3.87777778e+01 5.20000000e+04]\n",
      " [4.80000000e+01 7.90000000e+04]\n",
      " [5.00000000e+01 8.30000000e+04]\n",
      " [3.70000000e+01 6.70000000e+04]]\n"
     ]
    }
   ],
   "source": [
    "x = imputer.transform(df.iloc[:,1:3].values)\n",
    "print(x)"
   ],
   "metadata": {
    "collapsed": false
   }
  },
  {
   "cell_type": "code",
   "execution_count": 61,
   "outputs": [
    {
     "name": "stdout",
     "output_type": "stream",
     "text": [
      "   Country        Age        Salary Purchased\n",
      "0   France  44.000000  72000.000000       Yes\n",
      "1    Spain  27.000000  48000.000000       Yes\n",
      "2      NaN  30.000000  54000.000000       NaN\n",
      "3    Spain  38.000000  61000.000000        No\n",
      "4  Germany  40.000000  63777.777778       Yes\n",
      "5   France  35.000000  58000.000000       Yes\n",
      "6    Spain  38.777778  52000.000000        No\n",
      "7   France  48.000000  79000.000000       Yes\n",
      "8  Germany  50.000000  83000.000000        No\n",
      "9   France  37.000000  67000.000000       Yes\n"
     ]
    }
   ],
   "source": [
    "df.iloc[:,1:3] = x\n",
    "print(df)"
   ],
   "metadata": {
    "collapsed": false
   }
  }
 ],
 "metadata": {
  "kernelspec": {
   "display_name": "Python 3",
   "language": "python",
   "name": "python3"
  },
  "language_info": {
   "codemirror_mode": {
    "name": "ipython",
    "version": 2
   },
   "file_extension": ".py",
   "mimetype": "text/x-python",
   "name": "python",
   "nbconvert_exporter": "python",
   "pygments_lexer": "ipython2",
   "version": "2.7.6"
  }
 },
 "nbformat": 4,
 "nbformat_minor": 0
}
