{
 "cells": [
  {
   "cell_type": "code",
   "execution_count": 166,
   "outputs": [],
   "source": [
    "import pandas as ad\n",
    "import numpy as np\n",
    "import pandas as pd\n",
    "from sklearn.impute import SimpleImputer"
   ],
   "metadata": {
    "collapsed": false
   }
  },
  {
   "cell_type": "code",
   "execution_count": 167,
   "outputs": [
    {
     "name": "stdout",
     "output_type": "stream",
     "text": [
      "                                                 App        Category  Rating  \\\n",
      "0     Photo Editor & Candy Camera & Grid & ScrapBook  ART_AND_DESIGN     4.1   \n",
      "1                                Coloring book moana  ART_AND_DESIGN     3.9   \n",
      "2  U Launcher Lite – FREE Live Cool Themes, Hide ...  ART_AND_DESIGN     4.7   \n",
      "3                              Sketch - Draw & Paint  ART_AND_DESIGN     4.5   \n",
      "4              Pixel Draw - Number Art Coloring Book  ART_AND_DESIGN     4.3   \n",
      "\n",
      "  Reviews  Size     Installs  Type Price Content Rating  \\\n",
      "0     159   19M      10,000+  Free     0       Everyone   \n",
      "1     967   14M     500,000+  Free     0       Everyone   \n",
      "2   87510  8.7M   5,000,000+  Free     0       Everyone   \n",
      "3  215644   25M  50,000,000+  Free     0           Teen   \n",
      "4     967  2.8M     100,000+  Free     0       Everyone   \n",
      "\n",
      "                      Genres      Last Updated         Current Ver  \\\n",
      "0               Art & Design   January 7, 2018               1.0.0   \n",
      "1  Art & Design;Pretend Play  January 15, 2018               2.0.0   \n",
      "2               Art & Design    August 1, 2018               1.2.4   \n",
      "3               Art & Design      June 8, 2018  Varies with device   \n",
      "4    Art & Design;Creativity     June 20, 2018                 1.1   \n",
      "\n",
      "    Android Ver  \n",
      "0  4.0.3 and up  \n",
      "1  4.0.3 and up  \n",
      "2  4.0.3 and up  \n",
      "3    4.2 and up  \n",
      "4    4.4 and up  \n"
     ]
    }
   ],
   "source": [
    "df = pd.read_csv(\"googleplaystore.csv\")\n",
    "print(df.head())"
   ],
   "metadata": {
    "collapsed": false
   }
  },
  {
   "cell_type": "code",
   "execution_count": 168,
   "outputs": [
    {
     "name": "stdout",
     "output_type": "stream",
     "text": [
      "App\n",
      "Category\n",
      "Rating\n",
      "Reviews\n",
      "Size\n",
      "Installs\n",
      "Type\n",
      "Price\n",
      "Content Rating\n",
      "Genres\n",
      "Last Updated\n",
      "Current Ver\n",
      "Android Ver\n"
     ]
    }
   ],
   "source": [
    "for i in df.columns:\n",
    "    print(i)"
   ],
   "metadata": {
    "collapsed": false
   }
  },
  {
   "cell_type": "code",
   "execution_count": 169,
   "outputs": [
    {
     "name": "stdout",
     "output_type": "stream",
     "text": [
      "Free\n",
      "Paid\n",
      "nan\n",
      "0\n"
     ]
    }
   ],
   "source": [
    "for i in df['Type'].unique():\n",
    "    print(i)"
   ],
   "metadata": {
    "collapsed": false
   }
  },
  {
   "cell_type": "code",
   "execution_count": 170,
   "outputs": [
    {
     "name": "stdout",
     "output_type": "stream",
     "text": [
      "App                  0\n",
      "Category             0\n",
      "Rating            1474\n",
      "Reviews              0\n",
      "Size                 0\n",
      "Installs             0\n",
      "Type                 1\n",
      "Price                0\n",
      "Content Rating       1\n",
      "Genres               0\n",
      "Last Updated         0\n",
      "Current Ver          8\n",
      "Android Ver          3\n",
      "dtype: int64\n"
     ]
    }
   ],
   "source": [
    "print(df.isnull().sum())"
   ],
   "metadata": {
    "collapsed": false
   }
  },
  {
   "cell_type": "code",
   "execution_count": 171,
   "outputs": [
    {
     "name": "stdout",
     "output_type": "stream",
     "text": [
      "       Rating\n",
      "0         4.1\n",
      "1         3.9\n",
      "2         4.7\n",
      "3         4.5\n",
      "4         4.3\n",
      "...       ...\n",
      "10836     4.5\n",
      "10837     5.0\n",
      "10838     NaN\n",
      "10839     4.5\n",
      "10840     4.5\n",
      "\n",
      "[10841 rows x 1 columns]\n"
     ]
    }
   ],
   "source": [
    "print(df.iloc[:,2:3])"
   ],
   "metadata": {
    "collapsed": false
   }
  },
  {
   "cell_type": "code",
   "execution_count": 172,
   "outputs": [
    {
     "name": "stdout",
     "output_type": "stream",
     "text": [
      "0\n"
     ]
    }
   ],
   "source": [
    "imputer = SimpleImputer(missing_values=np.nan, strategy=\"mean\")\n",
    "imputer.fit(df.iloc[:,2:3])\n",
    "df.iloc[:,2:3] = imputer.transform(df.iloc[:,2:3])\n",
    "print(df.Rating.isnull().sum())"
   ],
   "metadata": {
    "collapsed": false
   }
  },
  {
   "cell_type": "code",
   "execution_count": 173,
   "outputs": [
    {
     "name": "stdout",
     "output_type": "stream",
     "text": [
      "App               0\n",
      "Category          0\n",
      "Rating            0\n",
      "Reviews           0\n",
      "Size              0\n",
      "Installs          0\n",
      "Type              1\n",
      "Price             0\n",
      "Content Rating    1\n",
      "Genres            0\n",
      "Last Updated      0\n",
      "Current Ver       8\n",
      "Android Ver       3\n",
      "dtype: int64\n"
     ]
    }
   ],
   "source": [
    "print(df.isnull().sum())"
   ],
   "metadata": {
    "collapsed": false
   }
  },
  {
   "cell_type": "code",
   "execution_count": 174,
   "outputs": [
    {
     "name": "stdout",
     "output_type": "stream",
     "text": [
      "App               0\n",
      "Category          0\n",
      "Rating            0\n",
      "Reviews           0\n",
      "Size              0\n",
      "Installs          0\n",
      "Type              0\n",
      "Price             0\n",
      "Content Rating    0\n",
      "Genres            0\n",
      "Last Updated      0\n",
      "Current Ver       0\n",
      "Android Ver       0\n",
      "dtype: int64\n"
     ]
    }
   ],
   "source": [
    "newDf = df.dropna()\n",
    "print(newDf.isnull().sum())"
   ],
   "metadata": {
    "collapsed": false
   }
  },
  {
   "cell_type": "code",
   "execution_count": 175,
   "outputs": [
    {
     "data": {
      "text/plain": "array(['U Launcher Lite – FREE Live Cool Themes, Hide Apps',\n       'ART_AND_DESIGN', 4.7, '87510', '8.7M', '5,000,000+', 'Free', '0',\n       'Everyone', 'Art & Design', 'August 1, 2018', '1.2.4',\n       '4.0.3 and up'], dtype=object)"
     },
     "execution_count": 175,
     "metadata": {},
     "output_type": "execute_result"
    }
   ],
   "source": [
    "# DataFrame to numpy array\n",
    "newDf = newDf.values\n",
    "newDf[2]"
   ],
   "metadata": {
    "collapsed": false
   }
  },
  {
   "cell_type": "markdown",
   "source": [
    "Q1> How many free apps are there in Artand Design Category"
   ],
   "metadata": {
    "collapsed": false
   }
  },
  {
   "cell_type": "code",
   "execution_count": 176,
   "outputs": [
    {
     "name": "stdout",
     "output_type": "stream",
     "text": [
      "['Photo Editor & Candy Camera & Grid & ScrapBook' 'ART_AND_DESIGN' 4.1\n",
      " '159' '19M' '10,000+' 'Free' '0' 'Everyone' 'Art & Design'\n",
      " 'January 7, 2018' '1.0.0' '4.0.3 and up']\n"
     ]
    }
   ],
   "source": [
    "for i in newDf:\n",
    "    print(i)\n",
    "    break"
   ],
   "metadata": {
    "collapsed": false
   }
  },
  {
   "cell_type": "code",
   "execution_count": 177,
   "outputs": [
    {
     "name": "stdout",
     "output_type": "stream",
     "text": [
      "there are 61 free apps in Category as ART_AND_DESIGN\n"
     ]
    }
   ],
   "source": [
    "count = 0\n",
    "for i in newDf:\n",
    "    if i[1] == 'ART_AND_DESIGN' and i[6] == 'Free':\n",
    "        count += 1\n",
    "print(\"there are\", count, \"free apps in Category as ART_AND_DESIGN\")"
   ],
   "metadata": {
    "collapsed": false
   }
  },
  {
   "cell_type": "code",
   "execution_count": 178,
   "outputs": [
    {
     "name": "stdout",
     "output_type": "stream",
     "text": [
      "There are  3 paid apps in category ART_AND_DESIGN \n"
     ]
    }
   ],
   "source": [
    "count = 0\n",
    "for i in newDf:\n",
    "    if(i[1] == 'ART_AND_DESIGN' and i[6] == 'Paid'):\n",
    "        count += 1\n",
    "print(\"There are \",count,\"paid apps in category ART_AND_DESIGN \")"
   ],
   "metadata": {
    "collapsed": false
   }
  },
  {
   "cell_type": "markdown",
   "source": [
    "Q2>> How may ART_AND_DESIGN apps are there with rating greater than 4.5??"
   ],
   "metadata": {
    "collapsed": false
   }
  },
  {
   "cell_type": "code",
   "execution_count": 179,
   "outputs": [
    {
     "name": "stdout",
     "output_type": "stream",
     "text": [
      "There are  26 ART_AND_DESIGN apps with rating greater or equal to 4.5\n"
     ]
    }
   ],
   "source": [
    "count = 0\n",
    "for i in newDf:\n",
    "    if(i[1] == 'ART_AND_DESIGN' and i[2] >= 4.5):\n",
    "        count += 1\n",
    "print(\"There are \", count ,\"ART_AND_DESIGN apps with rating greater or equal to 4.5\")"
   ],
   "metadata": {
    "collapsed": false
   }
  },
  {
   "cell_type": "markdown",
   "source": [
    "Q3 How many ART_AND_DESIGN apps are there with rating 4.5 and free"
   ],
   "metadata": {
    "collapsed": false
   }
  },
  {
   "cell_type": "code",
   "execution_count": 180,
   "outputs": [
    {
     "name": "stdout",
     "output_type": "stream",
     "text": [
      "There are  3 free ART_AND_DESIGN apps with rating greater than or equal to 4.5\n"
     ]
    }
   ],
   "source": [
    "count = 0\n",
    "for i in newDf:\n",
    "    if(i[1] == 'ART_AND_DESIGN' and i[2] >= 4.5 and i[6] == 'Paid'):\n",
    "        count += 1\n",
    "print(\"There are \",count, \"free ART_AND_DESIGN apps with rating greater than or equal to 4.5\")"
   ],
   "metadata": {
    "collapsed": false
   }
  },
  {
   "cell_type": "markdown",
   "source": [
    "Q4 List name of all apps with rating greater than or equal to 4.5"
   ],
   "metadata": {
    "collapsed": false
   }
  },
  {
   "cell_type": "code",
   "execution_count": 182,
   "outputs": [
    {
     "name": "stdout",
     "output_type": "stream",
     "text": [
      "U Launcher Lite – FREE Live Cool Themes, Hide Apps\n",
      "Sketch - Draw & Paint\n",
      "Kids Paint Free - Drawing Fun\n",
      "Mandala Coloring Book\n",
      "Photo Designer - Write your name with shapes\n",
      "350 Diy Room Decor Ideas\n",
      "ibis Paint X\n",
      "Superheroes Wallpapers | 4K Backgrounds\n",
      "HD Mickey Minnie Wallpapers\n",
      "Harley Quinn wallpapers HD\n",
      "Colorfit - Drawing & Coloring\n",
      "Anime Manga Coloring Book\n",
      "I Creative Idea\n",
      "UNICORN - Color By Number & Pixel Art Coloring\n",
      "PIP Camera - PIP Collage Maker\n",
      "Sad Poetry Photo Frames 2018\n",
      "Canva: Poster, banner, card maker & graphic design\n",
      "Install images with music to make video without Net - 2018\n",
      "Cardi B Wallpaper\n",
      "X Launcher: With OS11 Style Theme & Control Center\n",
      "X Launcher Pro: PhoneX Theme, OS11 Control Center\n",
      "X Launcher Pro - IOS Style Theme & Control Center\n",
      "X Launcher Prime: With OS Style Theme & No Ads\n",
      "AJ Styles HD Wallpapers\n",
      "Fantasy theme dark bw black building\n",
      "Spring flowers theme couleurs d t space\n"
     ]
    }
   ],
   "source": [
    "for i in newDf:\n",
    "    if(i[1] == 'ART_AND_DESIGN' and i[2] >= 4.5):\n",
    "        print(i[0])"
   ],
   "metadata": {
    "collapsed": false
   }
  }
 ],
 "metadata": {
  "kernelspec": {
   "display_name": "Python 3",
   "language": "python",
   "name": "python3"
  },
  "language_info": {
   "codemirror_mode": {
    "name": "ipython",
    "version": 2
   },
   "file_extension": ".py",
   "mimetype": "text/x-python",
   "name": "python",
   "nbconvert_exporter": "python",
   "pygments_lexer": "ipython2",
   "version": "2.7.6"
  }
 },
 "nbformat": 4,
 "nbformat_minor": 0
}
