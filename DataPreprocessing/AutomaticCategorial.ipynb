{
 "cells": [
  {
   "cell_type": "code",
   "execution_count": 160,
   "metadata": {
    "collapsed": true
   },
   "outputs": [],
   "source": [
    "import pandas as pd\n",
    "from wheel.wheelfile import read_csv"
   ]
  },
  {
   "cell_type": "code",
   "execution_count": 161,
   "outputs": [
    {
     "name": "stdout",
     "output_type": "stream",
     "text": [
      "                                                 App        Category  Rating  \\\n",
      "0     Photo Editor & Candy Camera & Grid & ScrapBook  ART_AND_DESIGN     4.1   \n",
      "1                                Coloring book moana  ART_AND_DESIGN     3.9   \n",
      "2  U Launcher Lite – FREE Live Cool Themes, Hide ...  ART_AND_DESIGN     4.7   \n",
      "3                              Sketch - Draw & Paint  ART_AND_DESIGN     4.5   \n",
      "4              Pixel Draw - Number Art Coloring Book  ART_AND_DESIGN     4.3   \n",
      "\n",
      "  Reviews  Size     Installs  Type Price Content Rating  \\\n",
      "0     159   19M      10,000+  Free     0       Everyone   \n",
      "1     967   14M     500,000+  Free     0       Everyone   \n",
      "2   87510  8.7M   5,000,000+  Free     0       Everyone   \n",
      "3  215644   25M  50,000,000+  Free     0           Teen   \n",
      "4     967  2.8M     100,000+  Free     0       Everyone   \n",
      "\n",
      "                      Genres      Last Updated         Current Ver  \\\n",
      "0               Art & Design   January 7, 2018               1.0.0   \n",
      "1  Art & Design;Pretend Play  January 15, 2018               2.0.0   \n",
      "2               Art & Design    August 1, 2018               1.2.4   \n",
      "3               Art & Design      June 8, 2018  Varies with device   \n",
      "4    Art & Design;Creativity     June 20, 2018                 1.1   \n",
      "\n",
      "    Android Ver  \n",
      "0  4.0.3 and up  \n",
      "1  4.0.3 and up  \n",
      "2  4.0.3 and up  \n",
      "3    4.2 and up  \n",
      "4    4.4 and up  \n"
     ]
    }
   ],
   "source": [
    "df = pd.read_csv(\"googleplaystore.csv\")\n",
    "print(df.head())"
   ],
   "metadata": {
    "collapsed": false
   }
  },
  {
   "cell_type": "code",
   "execution_count": 162,
   "outputs": [
    {
     "name": "stdout",
     "output_type": "stream",
     "text": [
      "34\n"
     ]
    }
   ],
   "source": [
    "print(len(df['Category'].unique()))"
   ],
   "metadata": {
    "collapsed": false
   }
  },
  {
   "cell_type": "code",
   "execution_count": 163,
   "outputs": [
    {
     "name": "stdout",
     "output_type": "stream",
     "text": [
      "ART_AND_DESIGN\n",
      "AUTO_AND_VEHICLES\n",
      "BEAUTY\n",
      "BOOKS_AND_REFERENCE\n",
      "BUSINESS\n",
      "COMICS\n",
      "COMMUNICATION\n",
      "DATING\n",
      "EDUCATION\n",
      "ENTERTAINMENT\n",
      "EVENTS\n",
      "FINANCE\n",
      "FOOD_AND_DRINK\n",
      "HEALTH_AND_FITNESS\n",
      "HOUSE_AND_HOME\n",
      "LIBRARIES_AND_DEMO\n",
      "LIFESTYLE\n",
      "GAME\n",
      "FAMILY\n",
      "MEDICAL\n",
      "SOCIAL\n",
      "SHOPPING\n",
      "PHOTOGRAPHY\n",
      "SPORTS\n",
      "TRAVEL_AND_LOCAL\n",
      "TOOLS\n",
      "PERSONALIZATION\n",
      "PRODUCTIVITY\n",
      "PARENTING\n",
      "WEATHER\n",
      "VIDEO_PLAYERS\n",
      "NEWS_AND_MAGAZINES\n",
      "MAPS_AND_NAVIGATION\n",
      "1.9\n"
     ]
    }
   ],
   "source": [
    "for i in df['Category'].unique():\n",
    "    print(i)"
   ],
   "metadata": {
    "collapsed": false
   }
  },
  {
   "cell_type": "code",
   "execution_count": 164,
   "outputs": [
    {
     "name": "stdout",
     "output_type": "stream",
     "text": [
      "Photography apps total 335\n"
     ]
    }
   ],
   "source": [
    "c = 0\n",
    "for i in df['Category']:\n",
    "    if(i == 'PHOTOGRAPHY'):\n",
    "        c += 1\n",
    "print(\"Photography apps total\", c)"
   ],
   "metadata": {
    "collapsed": false
   }
  },
  {
   "cell_type": "code",
   "execution_count": 165,
   "outputs": [
    {
     "name": "stdout",
     "output_type": "stream",
     "text": [
      "PERSONALIZATION apps total 392\n"
     ]
    }
   ],
   "source": [
    "c = 0\n",
    "for i in df['Category']:\n",
    "    if(i == 'PERSONALIZATION'):\n",
    "        c += 1\n",
    "print(\"PERSONALIZATION apps total\", c)"
   ],
   "metadata": {
    "collapsed": false
   }
  },
  {
   "cell_type": "code",
   "execution_count": 166,
   "outputs": [],
   "source": [
    "categories = {}\n",
    "for name in df['Category'].unique():\n",
    "    ct = 0\n",
    "    for i in df['Category']:\n",
    "        if i == name:\n",
    "            ct += 1\n",
    "    categories[name] = ct\n"
   ],
   "metadata": {
    "collapsed": false
   }
  },
  {
   "cell_type": "code",
   "execution_count": 167,
   "outputs": [
    {
     "name": "stdout",
     "output_type": "stream",
     "text": [
      "{'ART_AND_DESIGN': 65, 'AUTO_AND_VEHICLES': 85, 'BEAUTY': 53, 'BOOKS_AND_REFERENCE': 231, 'BUSINESS': 460, 'COMICS': 60, 'COMMUNICATION': 387, 'DATING': 234, 'EDUCATION': 156, 'ENTERTAINMENT': 149, 'EVENTS': 64, 'FINANCE': 366, 'FOOD_AND_DRINK': 127, 'HEALTH_AND_FITNESS': 341, 'HOUSE_AND_HOME': 88, 'LIBRARIES_AND_DEMO': 85, 'LIFESTYLE': 382, 'GAME': 1144, 'FAMILY': 1972, 'MEDICAL': 463, 'SOCIAL': 295, 'SHOPPING': 260, 'PHOTOGRAPHY': 335, 'SPORTS': 384, 'TRAVEL_AND_LOCAL': 258, 'TOOLS': 843, 'PERSONALIZATION': 392, 'PRODUCTIVITY': 424, 'PARENTING': 60, 'WEATHER': 82, 'VIDEO_PLAYERS': 175, 'NEWS_AND_MAGAZINES': 283, 'MAPS_AND_NAVIGATION': 137, '1.9': 1}\n"
     ]
    }
   ],
   "source": [
    "print(categories)"
   ],
   "metadata": {
    "collapsed": false
   }
  },
  {
   "cell_type": "code",
   "execution_count": 168,
   "outputs": [
    {
     "name": "stdout",
     "output_type": "stream",
     "text": [
      "{'Art & Design': 10841, 'Art & Design;Pretend Play': 10841, 'Art & Design;Creativity': 10841, 'Art & Design;Action & Adventure': 10841, 'Auto & Vehicles': 10841, 'Beauty': 10841, 'Books & Reference': 10841, 'Business': 10841, 'Comics': 10841, 'Comics;Creativity': 10841, 'Communication': 10841, 'Dating': 10841, 'Education;Education': 10841, 'Education': 10841, 'Education;Creativity': 10841, 'Education;Music & Video': 10841, 'Education;Action & Adventure': 10841, 'Education;Pretend Play': 10841, 'Education;Brain Games': 10841, 'Entertainment': 10841, 'Entertainment;Music & Video': 10841, 'Entertainment;Brain Games': 10841, 'Entertainment;Creativity': 10841, 'Events': 10841, 'Finance': 10841, 'Food & Drink': 10841, 'Health & Fitness': 10841, 'House & Home': 10841, 'Libraries & Demo': 10841, 'Lifestyle': 10841, 'Lifestyle;Pretend Play': 10841, 'Adventure;Action & Adventure': 10841, 'Arcade': 10841, 'Casual': 10841, 'Card': 10841, 'Casual;Pretend Play': 10841, 'Action': 10841, 'Strategy': 10841, 'Puzzle': 10841, 'Sports': 10841, 'Music': 10841, 'Word': 10841, 'Racing': 10841, 'Casual;Creativity': 10841, 'Casual;Action & Adventure': 10841, 'Simulation': 10841, 'Adventure': 10841, 'Board': 10841, 'Trivia': 10841, 'Role Playing': 10841, 'Simulation;Education': 10841, 'Action;Action & Adventure': 10841, 'Casual;Brain Games': 10841, 'Simulation;Action & Adventure': 10841, 'Educational;Creativity': 10841, 'Puzzle;Brain Games': 10841, 'Educational;Education': 10841, 'Card;Brain Games': 10841, 'Educational;Brain Games': 10841, 'Educational;Pretend Play': 10841, 'Entertainment;Education': 10841, 'Casual;Education': 10841, 'Music;Music & Video': 10841, 'Racing;Action & Adventure': 10841, 'Arcade;Pretend Play': 10841, 'Role Playing;Action & Adventure': 10841, 'Simulation;Pretend Play': 10841, 'Puzzle;Creativity': 10841, 'Sports;Action & Adventure': 10841, 'Educational;Action & Adventure': 10841, 'Arcade;Action & Adventure': 10841, 'Entertainment;Action & Adventure': 10841, 'Puzzle;Action & Adventure': 10841, 'Strategy;Action & Adventure': 10841, 'Music & Audio;Music & Video': 10841, 'Health & Fitness;Education': 10841, 'Adventure;Education': 10841, 'Board;Brain Games': 10841, 'Board;Action & Adventure': 10841, 'Board;Pretend Play': 10841, 'Casual;Music & Video': 10841, 'Role Playing;Pretend Play': 10841, 'Entertainment;Pretend Play': 10841, 'Video Players & Editors;Creativity': 10841, 'Card;Action & Adventure': 10841, 'Medical': 10841, 'Social': 10841, 'Shopping': 10841, 'Photography': 10841, 'Travel & Local': 10841, 'Travel & Local;Action & Adventure': 10841, 'Tools': 10841, 'Tools;Education': 10841, 'Personalization': 10841, 'Productivity': 10841, 'Parenting': 10841, 'Parenting;Music & Video': 10841, 'Parenting;Education': 10841, 'Parenting;Brain Games': 10841, 'Weather': 10841, 'Video Players & Editors': 10841, 'Video Players & Editors;Music & Video': 10841, 'News & Magazines': 10841, 'Maps & Navigation': 10841, 'Health & Fitness;Action & Adventure': 10841, 'Educational': 10841, 'Casino': 10841, 'Adventure;Brain Games': 10841, 'Trivia;Education': 10841, 'Lifestyle;Education': 10841, 'Books & Reference;Creativity': 10841, 'Books & Reference;Education': 10841, 'Puzzle;Education': 10841, 'Role Playing;Education': 10841, 'Role Playing;Brain Games': 10841, 'Strategy;Education': 10841, 'Racing;Pretend Play': 10841, 'Communication;Creativity': 10841, 'February 11, 2018': 10841, 'Strategy;Creativity': 10841}\n"
     ]
    }
   ],
   "source": [
    "Genres = {}\n",
    "for name in df['Genres']:\n",
    "    ct = 0\n",
    "    for i in df['Genres']:\n",
    "        ct += 1\n",
    "    Genres[name]=ct\n",
    "print(Genres)"
   ],
   "metadata": {
    "collapsed": false
   }
  },
  {
   "cell_type": "code",
   "execution_count": 170,
   "outputs": [
    {
     "ename": "KeyboardInterrupt",
     "evalue": "",
     "output_type": "error",
     "traceback": [
      "\u001B[0;31m---------------------------------------------------------------------------\u001B[0m",
      "\u001B[0;31mKeyboardInterrupt\u001B[0m                         Traceback (most recent call last)",
      "Input \u001B[0;32mIn [170]\u001B[0m, in \u001B[0;36m<cell line: 2>\u001B[0;34m()\u001B[0m\n\u001B[1;32m      3\u001B[0m ct \u001B[38;5;241m=\u001B[39m \u001B[38;5;241m0\u001B[39m\n\u001B[1;32m      4\u001B[0m \u001B[38;5;28;01mfor\u001B[39;00m i \u001B[38;5;129;01min\u001B[39;00m df[\u001B[38;5;124m'\u001B[39m\u001B[38;5;124mType\u001B[39m\u001B[38;5;124m'\u001B[39m]:\n\u001B[0;32m----> 5\u001B[0m     \u001B[38;5;28;01mif\u001B[39;00m(i \u001B[38;5;129;01min\u001B[39;00m \u001B[43mdf\u001B[49m\u001B[43m[\u001B[49m\u001B[38;5;124;43m'\u001B[39;49m\u001B[38;5;124;43mType\u001B[39;49m\u001B[38;5;124;43m'\u001B[39;49m\u001B[43m]\u001B[49m):\n\u001B[1;32m      6\u001B[0m      ct \u001B[38;5;241m+\u001B[39m\u001B[38;5;241m=\u001B[39m \u001B[38;5;241m1\u001B[39m\n\u001B[1;32m      7\u001B[0m Type[name]\u001B[38;5;241m=\u001B[39mct\n",
      "File \u001B[0;32m/opt/anaconda3/lib/python3.9/site-packages/pandas/core/frame.py:3463\u001B[0m, in \u001B[0;36mDataFrame.__getitem__\u001B[0;34m(self, key)\u001B[0m\n\u001B[1;32m   3460\u001B[0m     \u001B[38;5;28;01mfor\u001B[39;00m i \u001B[38;5;129;01min\u001B[39;00m \u001B[38;5;28mrange\u001B[39m(\u001B[38;5;28mlen\u001B[39m(\u001B[38;5;28mself\u001B[39m\u001B[38;5;241m.\u001B[39mcolumns)):\n\u001B[1;32m   3461\u001B[0m         \u001B[38;5;28;01myield\u001B[39;00m \u001B[38;5;28mself\u001B[39m\u001B[38;5;241m.\u001B[39m_get_column_array(i)\n\u001B[0;32m-> 3463\u001B[0m \u001B[38;5;28;01mdef\u001B[39;00m \u001B[38;5;21m__getitem__\u001B[39m(\u001B[38;5;28mself\u001B[39m, key):\n\u001B[1;32m   3464\u001B[0m     check_deprecated_indexers(key)\n\u001B[1;32m   3465\u001B[0m     key \u001B[38;5;241m=\u001B[39m lib\u001B[38;5;241m.\u001B[39mitem_from_zerodim(key)\n",
      "\u001B[0;31mKeyboardInterrupt\u001B[0m: "
     ]
    }
   ],
   "source": [
    "Type = {}\n",
    "for name in df['Type']:\n",
    "    ct = 0\n",
    "    for i in df['Type']:\n",
    "        if(i in df['Type']):\n",
    "         ct += 1\n",
    "    Type[name]=ct\n",
    "print(Type)"
   ],
   "metadata": {
    "collapsed": false
   }
  },
  {
   "cell_type": "code",
   "execution_count": 171,
   "outputs": [
    {
     "ename": "KeyboardInterrupt",
     "evalue": "",
     "output_type": "error",
     "traceback": [
      "\u001B[0;31m---------------------------------------------------------------------------\u001B[0m",
      "\u001B[0;31mKeyboardInterrupt\u001B[0m                         Traceback (most recent call last)",
      "Input \u001B[0;32mIn [171]\u001B[0m, in \u001B[0;36m<cell line: 2>\u001B[0;34m()\u001B[0m\n\u001B[1;32m      3\u001B[0m ct \u001B[38;5;241m=\u001B[39m \u001B[38;5;241m0\u001B[39m\n\u001B[1;32m      4\u001B[0m \u001B[38;5;28;01mfor\u001B[39;00m i \u001B[38;5;129;01min\u001B[39;00m df[\u001B[38;5;124m'\u001B[39m\u001B[38;5;124mContent Rating\u001B[39m\u001B[38;5;124m'\u001B[39m]:\n\u001B[0;32m----> 5\u001B[0m     \u001B[38;5;28;01mif\u001B[39;00m(\u001B[43mi\u001B[49m\u001B[43m \u001B[49m\u001B[38;5;129;43;01min\u001B[39;49;00m\u001B[43m \u001B[49m\u001B[43mdf\u001B[49m\u001B[43m[\u001B[49m\u001B[38;5;124;43m'\u001B[39;49m\u001B[38;5;124;43mContent Rating\u001B[39;49m\u001B[38;5;124;43m'\u001B[39;49m\u001B[43m]\u001B[49m):\n\u001B[1;32m      6\u001B[0m      ct \u001B[38;5;241m+\u001B[39m\u001B[38;5;241m=\u001B[39m \u001B[38;5;241m1\u001B[39m\n\u001B[1;32m      7\u001B[0m content_Rating[name]\u001B[38;5;241m=\u001B[39mct\n",
      "File \u001B[0;32m/opt/anaconda3/lib/python3.9/site-packages/pandas/core/generic.py:1994\u001B[0m, in \u001B[0;36mNDFrame.__contains__\u001B[0;34m(self, key)\u001B[0m\n\u001B[1;32m   1991\u001B[0m \u001B[38;5;129m@final\u001B[39m\n\u001B[1;32m   1992\u001B[0m \u001B[38;5;28;01mdef\u001B[39;00m \u001B[38;5;21m__contains__\u001B[39m(\u001B[38;5;28mself\u001B[39m, key) \u001B[38;5;241m-\u001B[39m\u001B[38;5;241m>\u001B[39m bool_t:\n\u001B[1;32m   1993\u001B[0m     \u001B[38;5;124;03m\"\"\"True if the key is in the info axis\"\"\"\u001B[39;00m\n\u001B[0;32m-> 1994\u001B[0m     \u001B[38;5;28;01mreturn\u001B[39;00m key \u001B[38;5;129;01min\u001B[39;00m \u001B[38;5;28;43mself\u001B[39;49m\u001B[38;5;241;43m.\u001B[39;49m\u001B[43m_info_axis\u001B[49m\n",
      "File \u001B[0;32m/opt/anaconda3/lib/python3.9/site-packages/pandas/core/generic.py:638\u001B[0m, in \u001B[0;36mNDFrame._info_axis\u001B[0;34m(self)\u001B[0m\n\u001B[1;32m    636\u001B[0m \u001B[38;5;129m@property\u001B[39m\n\u001B[1;32m    637\u001B[0m \u001B[38;5;28;01mdef\u001B[39;00m \u001B[38;5;21m_info_axis\u001B[39m(\u001B[38;5;28mself\u001B[39m) \u001B[38;5;241m-\u001B[39m\u001B[38;5;241m>\u001B[39m Index:\n\u001B[0;32m--> 638\u001B[0m     \u001B[38;5;28;01mreturn\u001B[39;00m \u001B[38;5;28;43mgetattr\u001B[39;49m\u001B[43m(\u001B[49m\u001B[38;5;28;43mself\u001B[39;49m\u001B[43m,\u001B[49m\u001B[43m \u001B[49m\u001B[38;5;28;43mself\u001B[39;49m\u001B[38;5;241;43m.\u001B[39;49m\u001B[43m_info_axis_name\u001B[49m\u001B[43m)\u001B[49m\n",
      "\u001B[0;31mKeyboardInterrupt\u001B[0m: "
     ]
    }
   ],
   "source": [
    "content_Rating = {}\n",
    "for name in df['Content Rating']:\n",
    "    ct = 0\n",
    "    for i in df['Content Rating']:\n",
    "        if(i in df['Content Rating']):\n",
    "         ct += 1\n",
    "    content_Rating[name]=ct\n",
    "print(content_Rating)"
   ],
   "metadata": {
    "collapsed": false
   }
  },
  {
   "cell_type": "code",
   "execution_count": 173,
   "outputs": [
    {
     "name": "stdout",
     "output_type": "stream",
     "text": [
      "count      10841\n",
      "unique        34\n",
      "top       FAMILY\n",
      "freq        1972\n",
      "Name: Category, dtype: object\n",
      "count     10840\n",
      "unique        3\n",
      "top        Free\n",
      "freq      10039\n",
      "Name: Type, dtype: object\n"
     ]
    }
   ],
   "source": [
    "print(df['Category'].describe())\n",
    "print(df['Type'].describe())"
   ],
   "metadata": {
    "collapsed": false
   }
  }
 ],
 "metadata": {
  "kernelspec": {
   "display_name": "Python 3",
   "language": "python",
   "name": "python3"
  },
  "language_info": {
   "codemirror_mode": {
    "name": "ipython",
    "version": 2
   },
   "file_extension": ".py",
   "mimetype": "text/x-python",
   "name": "python",
   "nbconvert_exporter": "python",
   "pygments_lexer": "ipython2",
   "version": "2.7.6"
  }
 },
 "nbformat": 4,
 "nbformat_minor": 0
}
