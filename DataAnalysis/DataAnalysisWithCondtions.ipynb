{
 "cells": [
  {
   "cell_type": "code",
   "execution_count": 23,
   "metadata": {
    "collapsed": true
   },
   "outputs": [],
   "source": [
    "import pandas as pd\n",
    "import numpy as np\n",
    "from sklearn.impute import SimpleImputer"
   ]
  },
  {
   "cell_type": "code",
   "execution_count": 24,
   "outputs": [
    {
     "data": {
      "text/plain": "                                                     App             Category  \\\n0         Photo Editor & Candy Camera & Grid & ScrapBook       ART_AND_DESIGN   \n1                                    Coloring book moana       ART_AND_DESIGN   \n2      U Launcher Lite – FREE Live Cool Themes, Hide ...       ART_AND_DESIGN   \n3                                  Sketch - Draw & Paint       ART_AND_DESIGN   \n4                  Pixel Draw - Number Art Coloring Book       ART_AND_DESIGN   \n...                                                  ...                  ...   \n10836                                   Sya9a Maroc - FR               FAMILY   \n10837                   Fr. Mike Schmitz Audio Teachings               FAMILY   \n10838                             Parkinson Exercices FR              MEDICAL   \n10839                      The SCP Foundation DB fr nn5n  BOOKS_AND_REFERENCE   \n10840      iHoroscope - 2018 Daily Horoscope & Astrology            LIFESTYLE   \n\n       Rating Reviews                Size     Installs  Type Price  \\\n0         4.1     159                 19M      10,000+  Free     0   \n1         3.9     967                 14M     500,000+  Free     0   \n2         4.7   87510                8.7M   5,000,000+  Free     0   \n3         4.5  215644                 25M  50,000,000+  Free     0   \n4         4.3     967                2.8M     100,000+  Free     0   \n...       ...     ...                 ...          ...   ...   ...   \n10836     4.5      38                 53M       5,000+  Free     0   \n10837     5.0       4                3.6M         100+  Free     0   \n10838     NaN       3                9.5M       1,000+  Free     0   \n10839     4.5     114  Varies with device       1,000+  Free     0   \n10840     4.5  398307                 19M  10,000,000+  Free     0   \n\n      Content Rating                     Genres      Last Updated  \\\n0           Everyone               Art & Design   January 7, 2018   \n1           Everyone  Art & Design;Pretend Play  January 15, 2018   \n2           Everyone               Art & Design    August 1, 2018   \n3               Teen               Art & Design      June 8, 2018   \n4           Everyone    Art & Design;Creativity     June 20, 2018   \n...              ...                        ...               ...   \n10836       Everyone                  Education     July 25, 2017   \n10837       Everyone                  Education      July 6, 2018   \n10838       Everyone                    Medical  January 20, 2017   \n10839     Mature 17+          Books & Reference  January 19, 2015   \n10840       Everyone                  Lifestyle     July 25, 2018   \n\n              Current Ver         Android Ver  \n0                   1.0.0        4.0.3 and up  \n1                   2.0.0        4.0.3 and up  \n2                   1.2.4        4.0.3 and up  \n3      Varies with device          4.2 and up  \n4                     1.1          4.4 and up  \n...                   ...                 ...  \n10836                1.48          4.1 and up  \n10837                 1.0          4.1 and up  \n10838                 1.0          2.2 and up  \n10839  Varies with device  Varies with device  \n10840  Varies with device  Varies with device  \n\n[10841 rows x 13 columns]",
      "text/html": "<div>\n<style scoped>\n    .dataframe tbody tr th:only-of-type {\n        vertical-align: middle;\n    }\n\n    .dataframe tbody tr th {\n        vertical-align: top;\n    }\n\n    .dataframe thead th {\n        text-align: right;\n    }\n</style>\n<table border=\"1\" class=\"dataframe\">\n  <thead>\n    <tr style=\"text-align: right;\">\n      <th></th>\n      <th>App</th>\n      <th>Category</th>\n      <th>Rating</th>\n      <th>Reviews</th>\n      <th>Size</th>\n      <th>Installs</th>\n      <th>Type</th>\n      <th>Price</th>\n      <th>Content Rating</th>\n      <th>Genres</th>\n      <th>Last Updated</th>\n      <th>Current Ver</th>\n      <th>Android Ver</th>\n    </tr>\n  </thead>\n  <tbody>\n    <tr>\n      <th>0</th>\n      <td>Photo Editor &amp; Candy Camera &amp; Grid &amp; ScrapBook</td>\n      <td>ART_AND_DESIGN</td>\n      <td>4.1</td>\n      <td>159</td>\n      <td>19M</td>\n      <td>10,000+</td>\n      <td>Free</td>\n      <td>0</td>\n      <td>Everyone</td>\n      <td>Art &amp; Design</td>\n      <td>January 7, 2018</td>\n      <td>1.0.0</td>\n      <td>4.0.3 and up</td>\n    </tr>\n    <tr>\n      <th>1</th>\n      <td>Coloring book moana</td>\n      <td>ART_AND_DESIGN</td>\n      <td>3.9</td>\n      <td>967</td>\n      <td>14M</td>\n      <td>500,000+</td>\n      <td>Free</td>\n      <td>0</td>\n      <td>Everyone</td>\n      <td>Art &amp; Design;Pretend Play</td>\n      <td>January 15, 2018</td>\n      <td>2.0.0</td>\n      <td>4.0.3 and up</td>\n    </tr>\n    <tr>\n      <th>2</th>\n      <td>U Launcher Lite – FREE Live Cool Themes, Hide ...</td>\n      <td>ART_AND_DESIGN</td>\n      <td>4.7</td>\n      <td>87510</td>\n      <td>8.7M</td>\n      <td>5,000,000+</td>\n      <td>Free</td>\n      <td>0</td>\n      <td>Everyone</td>\n      <td>Art &amp; Design</td>\n      <td>August 1, 2018</td>\n      <td>1.2.4</td>\n      <td>4.0.3 and up</td>\n    </tr>\n    <tr>\n      <th>3</th>\n      <td>Sketch - Draw &amp; Paint</td>\n      <td>ART_AND_DESIGN</td>\n      <td>4.5</td>\n      <td>215644</td>\n      <td>25M</td>\n      <td>50,000,000+</td>\n      <td>Free</td>\n      <td>0</td>\n      <td>Teen</td>\n      <td>Art &amp; Design</td>\n      <td>June 8, 2018</td>\n      <td>Varies with device</td>\n      <td>4.2 and up</td>\n    </tr>\n    <tr>\n      <th>4</th>\n      <td>Pixel Draw - Number Art Coloring Book</td>\n      <td>ART_AND_DESIGN</td>\n      <td>4.3</td>\n      <td>967</td>\n      <td>2.8M</td>\n      <td>100,000+</td>\n      <td>Free</td>\n      <td>0</td>\n      <td>Everyone</td>\n      <td>Art &amp; Design;Creativity</td>\n      <td>June 20, 2018</td>\n      <td>1.1</td>\n      <td>4.4 and up</td>\n    </tr>\n    <tr>\n      <th>...</th>\n      <td>...</td>\n      <td>...</td>\n      <td>...</td>\n      <td>...</td>\n      <td>...</td>\n      <td>...</td>\n      <td>...</td>\n      <td>...</td>\n      <td>...</td>\n      <td>...</td>\n      <td>...</td>\n      <td>...</td>\n      <td>...</td>\n    </tr>\n    <tr>\n      <th>10836</th>\n      <td>Sya9a Maroc - FR</td>\n      <td>FAMILY</td>\n      <td>4.5</td>\n      <td>38</td>\n      <td>53M</td>\n      <td>5,000+</td>\n      <td>Free</td>\n      <td>0</td>\n      <td>Everyone</td>\n      <td>Education</td>\n      <td>July 25, 2017</td>\n      <td>1.48</td>\n      <td>4.1 and up</td>\n    </tr>\n    <tr>\n      <th>10837</th>\n      <td>Fr. Mike Schmitz Audio Teachings</td>\n      <td>FAMILY</td>\n      <td>5.0</td>\n      <td>4</td>\n      <td>3.6M</td>\n      <td>100+</td>\n      <td>Free</td>\n      <td>0</td>\n      <td>Everyone</td>\n      <td>Education</td>\n      <td>July 6, 2018</td>\n      <td>1.0</td>\n      <td>4.1 and up</td>\n    </tr>\n    <tr>\n      <th>10838</th>\n      <td>Parkinson Exercices FR</td>\n      <td>MEDICAL</td>\n      <td>NaN</td>\n      <td>3</td>\n      <td>9.5M</td>\n      <td>1,000+</td>\n      <td>Free</td>\n      <td>0</td>\n      <td>Everyone</td>\n      <td>Medical</td>\n      <td>January 20, 2017</td>\n      <td>1.0</td>\n      <td>2.2 and up</td>\n    </tr>\n    <tr>\n      <th>10839</th>\n      <td>The SCP Foundation DB fr nn5n</td>\n      <td>BOOKS_AND_REFERENCE</td>\n      <td>4.5</td>\n      <td>114</td>\n      <td>Varies with device</td>\n      <td>1,000+</td>\n      <td>Free</td>\n      <td>0</td>\n      <td>Mature 17+</td>\n      <td>Books &amp; Reference</td>\n      <td>January 19, 2015</td>\n      <td>Varies with device</td>\n      <td>Varies with device</td>\n    </tr>\n    <tr>\n      <th>10840</th>\n      <td>iHoroscope - 2018 Daily Horoscope &amp; Astrology</td>\n      <td>LIFESTYLE</td>\n      <td>4.5</td>\n      <td>398307</td>\n      <td>19M</td>\n      <td>10,000,000+</td>\n      <td>Free</td>\n      <td>0</td>\n      <td>Everyone</td>\n      <td>Lifestyle</td>\n      <td>July 25, 2018</td>\n      <td>Varies with device</td>\n      <td>Varies with device</td>\n    </tr>\n  </tbody>\n</table>\n<p>10841 rows × 13 columns</p>\n</div>"
     },
     "execution_count": 24,
     "metadata": {},
     "output_type": "execute_result"
    }
   ],
   "source": [
    "df = pd.read_csv('googleplaystore.csv')\n",
    "df"
   ],
   "metadata": {
    "collapsed": false
   }
  },
  {
   "cell_type": "code",
   "execution_count": 25,
   "outputs": [
    {
     "data": {
      "text/plain": "array([[4.1],\n       [3.9],\n       [4.7],\n       ...,\n       [nan],\n       [4.5],\n       [4.5]])"
     },
     "execution_count": 25,
     "metadata": {},
     "output_type": "execute_result"
    }
   ],
   "source": [
    "df.iloc[:,2:3].values"
   ],
   "metadata": {
    "collapsed": false
   }
  },
  {
   "cell_type": "code",
   "execution_count": 26,
   "outputs": [
    {
     "name": "stderr",
     "output_type": "stream",
     "text": [
      "/opt/anaconda3/lib/python3.9/site-packages/sklearn/base.py:443: UserWarning: X has feature names, but SimpleImputer was fitted without feature names\n",
      "  warnings.warn(\n"
     ]
    },
    {
     "data": {
      "text/plain": "App               0\nCategory          0\nRating            0\nReviews           0\nSize              0\nInstalls          0\nType              1\nPrice             0\nContent Rating    1\nGenres            0\nLast Updated      0\nCurrent Ver       8\nAndroid Ver       3\ndtype: int64"
     },
     "execution_count": 26,
     "metadata": {},
     "output_type": "execute_result"
    }
   ],
   "source": [
    "imputer = SimpleImputer(missing_values = np.nan, strategy='mean')\n",
    "imputer.fit(df.iloc[:,2:3].values)\n",
    "df.iloc[:,2:3] = imputer.transform((df.iloc[:,2:3]))\n",
    "df.isnull().sum()"
   ],
   "metadata": {
    "collapsed": false
   }
  },
  {
   "cell_type": "code",
   "execution_count": 27,
   "outputs": [
    {
     "data": {
      "text/plain": "                                                     App             Category  \\\n0         Photo Editor & Candy Camera & Grid & ScrapBook       ART_AND_DESIGN   \n1                                    Coloring book moana       ART_AND_DESIGN   \n2      U Launcher Lite – FREE Live Cool Themes, Hide ...       ART_AND_DESIGN   \n3                                  Sketch - Draw & Paint       ART_AND_DESIGN   \n4                  Pixel Draw - Number Art Coloring Book       ART_AND_DESIGN   \n...                                                  ...                  ...   \n10836                                   Sya9a Maroc - FR               FAMILY   \n10837                   Fr. Mike Schmitz Audio Teachings               FAMILY   \n10838                             Parkinson Exercices FR              MEDICAL   \n10839                      The SCP Foundation DB fr nn5n  BOOKS_AND_REFERENCE   \n10840      iHoroscope - 2018 Daily Horoscope & Astrology            LIFESTYLE   \n\n         Rating Reviews                Size     Installs  Type Price  \\\n0      4.100000     159                 19M      10,000+  Free     0   \n1      3.900000     967                 14M     500,000+  Free     0   \n2      4.700000   87510                8.7M   5,000,000+  Free     0   \n3      4.500000  215644                 25M  50,000,000+  Free     0   \n4      4.300000     967                2.8M     100,000+  Free     0   \n...         ...     ...                 ...          ...   ...   ...   \n10836  4.500000      38                 53M       5,000+  Free     0   \n10837  5.000000       4                3.6M         100+  Free     0   \n10838  4.193338       3                9.5M       1,000+  Free     0   \n10839  4.500000     114  Varies with device       1,000+  Free     0   \n10840  4.500000  398307                 19M  10,000,000+  Free     0   \n\n      Content Rating                     Genres      Last Updated  \\\n0           Everyone               Art & Design   January 7, 2018   \n1           Everyone  Art & Design;Pretend Play  January 15, 2018   \n2           Everyone               Art & Design    August 1, 2018   \n3               Teen               Art & Design      June 8, 2018   \n4           Everyone    Art & Design;Creativity     June 20, 2018   \n...              ...                        ...               ...   \n10836       Everyone                  Education     July 25, 2017   \n10837       Everyone                  Education      July 6, 2018   \n10838       Everyone                    Medical  January 20, 2017   \n10839     Mature 17+          Books & Reference  January 19, 2015   \n10840       Everyone                  Lifestyle     July 25, 2018   \n\n              Current Ver         Android Ver  \n0                   1.0.0        4.0.3 and up  \n1                   2.0.0        4.0.3 and up  \n2                   1.2.4        4.0.3 and up  \n3      Varies with device          4.2 and up  \n4                     1.1          4.4 and up  \n...                   ...                 ...  \n10836                1.48          4.1 and up  \n10837                 1.0          4.1 and up  \n10838                 1.0          2.2 and up  \n10839  Varies with device  Varies with device  \n10840  Varies with device  Varies with device  \n\n[10829 rows x 13 columns]",
      "text/html": "<div>\n<style scoped>\n    .dataframe tbody tr th:only-of-type {\n        vertical-align: middle;\n    }\n\n    .dataframe tbody tr th {\n        vertical-align: top;\n    }\n\n    .dataframe thead th {\n        text-align: right;\n    }\n</style>\n<table border=\"1\" class=\"dataframe\">\n  <thead>\n    <tr style=\"text-align: right;\">\n      <th></th>\n      <th>App</th>\n      <th>Category</th>\n      <th>Rating</th>\n      <th>Reviews</th>\n      <th>Size</th>\n      <th>Installs</th>\n      <th>Type</th>\n      <th>Price</th>\n      <th>Content Rating</th>\n      <th>Genres</th>\n      <th>Last Updated</th>\n      <th>Current Ver</th>\n      <th>Android Ver</th>\n    </tr>\n  </thead>\n  <tbody>\n    <tr>\n      <th>0</th>\n      <td>Photo Editor &amp; Candy Camera &amp; Grid &amp; ScrapBook</td>\n      <td>ART_AND_DESIGN</td>\n      <td>4.100000</td>\n      <td>159</td>\n      <td>19M</td>\n      <td>10,000+</td>\n      <td>Free</td>\n      <td>0</td>\n      <td>Everyone</td>\n      <td>Art &amp; Design</td>\n      <td>January 7, 2018</td>\n      <td>1.0.0</td>\n      <td>4.0.3 and up</td>\n    </tr>\n    <tr>\n      <th>1</th>\n      <td>Coloring book moana</td>\n      <td>ART_AND_DESIGN</td>\n      <td>3.900000</td>\n      <td>967</td>\n      <td>14M</td>\n      <td>500,000+</td>\n      <td>Free</td>\n      <td>0</td>\n      <td>Everyone</td>\n      <td>Art &amp; Design;Pretend Play</td>\n      <td>January 15, 2018</td>\n      <td>2.0.0</td>\n      <td>4.0.3 and up</td>\n    </tr>\n    <tr>\n      <th>2</th>\n      <td>U Launcher Lite – FREE Live Cool Themes, Hide ...</td>\n      <td>ART_AND_DESIGN</td>\n      <td>4.700000</td>\n      <td>87510</td>\n      <td>8.7M</td>\n      <td>5,000,000+</td>\n      <td>Free</td>\n      <td>0</td>\n      <td>Everyone</td>\n      <td>Art &amp; Design</td>\n      <td>August 1, 2018</td>\n      <td>1.2.4</td>\n      <td>4.0.3 and up</td>\n    </tr>\n    <tr>\n      <th>3</th>\n      <td>Sketch - Draw &amp; Paint</td>\n      <td>ART_AND_DESIGN</td>\n      <td>4.500000</td>\n      <td>215644</td>\n      <td>25M</td>\n      <td>50,000,000+</td>\n      <td>Free</td>\n      <td>0</td>\n      <td>Teen</td>\n      <td>Art &amp; Design</td>\n      <td>June 8, 2018</td>\n      <td>Varies with device</td>\n      <td>4.2 and up</td>\n    </tr>\n    <tr>\n      <th>4</th>\n      <td>Pixel Draw - Number Art Coloring Book</td>\n      <td>ART_AND_DESIGN</td>\n      <td>4.300000</td>\n      <td>967</td>\n      <td>2.8M</td>\n      <td>100,000+</td>\n      <td>Free</td>\n      <td>0</td>\n      <td>Everyone</td>\n      <td>Art &amp; Design;Creativity</td>\n      <td>June 20, 2018</td>\n      <td>1.1</td>\n      <td>4.4 and up</td>\n    </tr>\n    <tr>\n      <th>...</th>\n      <td>...</td>\n      <td>...</td>\n      <td>...</td>\n      <td>...</td>\n      <td>...</td>\n      <td>...</td>\n      <td>...</td>\n      <td>...</td>\n      <td>...</td>\n      <td>...</td>\n      <td>...</td>\n      <td>...</td>\n      <td>...</td>\n    </tr>\n    <tr>\n      <th>10836</th>\n      <td>Sya9a Maroc - FR</td>\n      <td>FAMILY</td>\n      <td>4.500000</td>\n      <td>38</td>\n      <td>53M</td>\n      <td>5,000+</td>\n      <td>Free</td>\n      <td>0</td>\n      <td>Everyone</td>\n      <td>Education</td>\n      <td>July 25, 2017</td>\n      <td>1.48</td>\n      <td>4.1 and up</td>\n    </tr>\n    <tr>\n      <th>10837</th>\n      <td>Fr. Mike Schmitz Audio Teachings</td>\n      <td>FAMILY</td>\n      <td>5.000000</td>\n      <td>4</td>\n      <td>3.6M</td>\n      <td>100+</td>\n      <td>Free</td>\n      <td>0</td>\n      <td>Everyone</td>\n      <td>Education</td>\n      <td>July 6, 2018</td>\n      <td>1.0</td>\n      <td>4.1 and up</td>\n    </tr>\n    <tr>\n      <th>10838</th>\n      <td>Parkinson Exercices FR</td>\n      <td>MEDICAL</td>\n      <td>4.193338</td>\n      <td>3</td>\n      <td>9.5M</td>\n      <td>1,000+</td>\n      <td>Free</td>\n      <td>0</td>\n      <td>Everyone</td>\n      <td>Medical</td>\n      <td>January 20, 2017</td>\n      <td>1.0</td>\n      <td>2.2 and up</td>\n    </tr>\n    <tr>\n      <th>10839</th>\n      <td>The SCP Foundation DB fr nn5n</td>\n      <td>BOOKS_AND_REFERENCE</td>\n      <td>4.500000</td>\n      <td>114</td>\n      <td>Varies with device</td>\n      <td>1,000+</td>\n      <td>Free</td>\n      <td>0</td>\n      <td>Mature 17+</td>\n      <td>Books &amp; Reference</td>\n      <td>January 19, 2015</td>\n      <td>Varies with device</td>\n      <td>Varies with device</td>\n    </tr>\n    <tr>\n      <th>10840</th>\n      <td>iHoroscope - 2018 Daily Horoscope &amp; Astrology</td>\n      <td>LIFESTYLE</td>\n      <td>4.500000</td>\n      <td>398307</td>\n      <td>19M</td>\n      <td>10,000,000+</td>\n      <td>Free</td>\n      <td>0</td>\n      <td>Everyone</td>\n      <td>Lifestyle</td>\n      <td>July 25, 2018</td>\n      <td>Varies with device</td>\n      <td>Varies with device</td>\n    </tr>\n  </tbody>\n</table>\n<p>10829 rows × 13 columns</p>\n</div>"
     },
     "execution_count": 27,
     "metadata": {},
     "output_type": "execute_result"
    }
   ],
   "source": [
    "newDf = df.dropna()\n",
    "newDf"
   ],
   "metadata": {
    "collapsed": false
   }
  },
  {
   "cell_type": "code",
   "execution_count": 28,
   "outputs": [
    {
     "data": {
      "text/plain": "App               0\nCategory          0\nRating            0\nReviews           0\nSize              0\nInstalls          0\nType              0\nPrice             0\nContent Rating    0\nGenres            0\nLast Updated      0\nCurrent Ver       0\nAndroid Ver       0\ndtype: int64"
     },
     "execution_count": 28,
     "metadata": {},
     "output_type": "execute_result"
    }
   ],
   "source": [
    "newDf.isnull().sum()"
   ],
   "metadata": {
    "collapsed": false
   }
  },
  {
   "cell_type": "code",
   "execution_count": 29,
   "outputs": [
    {
     "data": {
      "text/plain": "                                                    App        Category  \\\n4755  X Launcher Pro: PhoneX Theme, OS11 Control Center  ART_AND_DESIGN   \n4759  X Launcher Pro - IOS Style Theme & Control Center  ART_AND_DESIGN   \n4764     X Launcher Prime: With OS Style Theme & No Ads  ART_AND_DESIGN   \n\n      Rating Reviews  Size Installs  Type  Price Content Rating        Genres  \\\n4755     4.7     801  3.5M   5,000+  Paid  $1.99       Everyone  Art & Design   \n4759     4.8    1216  8.6M  10,000+  Paid  $1.99       Everyone  Art & Design   \n4764     4.7     149  3.5M   1,000+  Paid  $1.99       Everyone  Art & Design   \n\n       Last Updated Current Ver Android Ver  \n4755  July 30, 2018       2.1.2  4.1 and up  \n4759  June 26, 2018       1.0.0  4.1 and up  \n4764  July 30, 2018       1.2.2  4.1 and up  ",
      "text/html": "<div>\n<style scoped>\n    .dataframe tbody tr th:only-of-type {\n        vertical-align: middle;\n    }\n\n    .dataframe tbody tr th {\n        vertical-align: top;\n    }\n\n    .dataframe thead th {\n        text-align: right;\n    }\n</style>\n<table border=\"1\" class=\"dataframe\">\n  <thead>\n    <tr style=\"text-align: right;\">\n      <th></th>\n      <th>App</th>\n      <th>Category</th>\n      <th>Rating</th>\n      <th>Reviews</th>\n      <th>Size</th>\n      <th>Installs</th>\n      <th>Type</th>\n      <th>Price</th>\n      <th>Content Rating</th>\n      <th>Genres</th>\n      <th>Last Updated</th>\n      <th>Current Ver</th>\n      <th>Android Ver</th>\n    </tr>\n  </thead>\n  <tbody>\n    <tr>\n      <th>4755</th>\n      <td>X Launcher Pro: PhoneX Theme, OS11 Control Center</td>\n      <td>ART_AND_DESIGN</td>\n      <td>4.7</td>\n      <td>801</td>\n      <td>3.5M</td>\n      <td>5,000+</td>\n      <td>Paid</td>\n      <td>$1.99</td>\n      <td>Everyone</td>\n      <td>Art &amp; Design</td>\n      <td>July 30, 2018</td>\n      <td>2.1.2</td>\n      <td>4.1 and up</td>\n    </tr>\n    <tr>\n      <th>4759</th>\n      <td>X Launcher Pro - IOS Style Theme &amp; Control Center</td>\n      <td>ART_AND_DESIGN</td>\n      <td>4.8</td>\n      <td>1216</td>\n      <td>8.6M</td>\n      <td>10,000+</td>\n      <td>Paid</td>\n      <td>$1.99</td>\n      <td>Everyone</td>\n      <td>Art &amp; Design</td>\n      <td>June 26, 2018</td>\n      <td>1.0.0</td>\n      <td>4.1 and up</td>\n    </tr>\n    <tr>\n      <th>4764</th>\n      <td>X Launcher Prime: With OS Style Theme &amp; No Ads</td>\n      <td>ART_AND_DESIGN</td>\n      <td>4.7</td>\n      <td>149</td>\n      <td>3.5M</td>\n      <td>1,000+</td>\n      <td>Paid</td>\n      <td>$1.99</td>\n      <td>Everyone</td>\n      <td>Art &amp; Design</td>\n      <td>July 30, 2018</td>\n      <td>1.2.2</td>\n      <td>4.1 and up</td>\n    </tr>\n  </tbody>\n</table>\n</div>"
     },
     "execution_count": 29,
     "metadata": {},
     "output_type": "execute_result"
    }
   ],
   "source": [
    "newDf = newDf[newDf['Category'] == 'ART_AND_DESIGN']\n",
    "newDf2 = newDf[newDf['Type'] == 'Paid']\n",
    "newDf2"
   ],
   "metadata": {
    "collapsed": false
   }
  },
  {
   "cell_type": "code",
   "execution_count": 30,
   "outputs": [
    {
     "data": {
      "text/plain": "App               0\nCategory          0\nRating            0\nReviews           0\nSize              0\nInstalls          0\nType              1\nPrice             0\nContent Rating    1\nGenres            0\nLast Updated      0\nCurrent Ver       8\nAndroid Ver       3\ndtype: int64"
     },
     "execution_count": 30,
     "metadata": {},
     "output_type": "execute_result"
    }
   ],
   "source": [
    "df.isnull().sum()\n",
    "# newDf = newDf[newDf['Category'] == 'Family']\n",
    "# newDf"
   ],
   "metadata": {
    "collapsed": false
   }
  },
  {
   "cell_type": "code",
   "execution_count": 31,
   "outputs": [
    {
     "data": {
      "text/plain": "App               0\nCategory          0\nRating            0\nReviews           0\nSize              0\nInstalls          0\nType              0\nPrice             0\nContent Rating    0\nGenres            0\nLast Updated      0\nCurrent Ver       0\nAndroid Ver       0\ndtype: int64"
     },
     "execution_count": 31,
     "metadata": {},
     "output_type": "execute_result"
    }
   ],
   "source": [
    "nullCheckedDf = df.dropna()\n",
    "nullCheckedDf.isnull().sum()"
   ],
   "metadata": {
    "collapsed": false
   }
  },
  {
   "cell_type": "code",
   "execution_count": 41,
   "outputs": [
    {
     "name": "stdout",
     "output_type": "stream",
     "text": [
      "Casual Dating & Adult Singles - Joyride\n",
      "Find Real Love — YouLove Premium Dating\n",
      "Dating for 50 plus Mature Singles – FINALLY\n",
      "Casual Dating & Adult Singles - Joyride\n",
      "Find Real Love — YouLove Premium Dating\n",
      "Dating for 50 plus Mature Singles – FINALLY\n",
      "iPair-Meet, Chat, Dating\n",
      "Live Girls Talk - Free Video Chat\n",
      "Live Talk - Free Text and Video Chat\n",
      "Chat Kids - Chat Room For Kids\n",
      "Girls Live Chat - Free Text & Video Chat\n",
      "American Girls Mobile Numbers\n",
      "FREE VIDEO CHAT - LIVE VIDEO AND TEXT CHAT\n",
      "Awake Dating\n",
      "Live Chat - Free Video Chat Rooms\n",
      "FREE LIVE TALK\n",
      "Live Chat - Free Video Talk\n",
      "Spine- The dating app\n",
      "Online Chat Girls Meet\n",
      "Girls Live Talk - Free Text and Video Chat\n",
      "Online Girls Chat Group\n",
      "Speeding Joyride & Car Meet App\n",
      "Titanic App - Feminist Dating Application\n",
      "Chat Kids - Chat Room For Kids\n",
      "Live Talk - Free Text and Video Chat\n",
      "Live Girls Talk - Free Video Chat\n",
      "Girls Online Talk - Free Text and Video Chat\n",
      "Girls Live Chat - Free Text & Video Chat\n",
      "Online Girls Chat\n",
      "LIVE VIDEO TALK\n",
      "Free Live Talk-Video Call\n",
      "iPair-Meet, Chat, Dating\n"
     ]
    }
   ],
   "source": [
    "dfNew = nullCheckedDf[nullCheckedDf['Category'] == 'DATING']\n",
    "dfNew2 = dfNew[dfNew['Rating'] >= 4.5]\n",
    "dfNew3 = dfNew2[dfNew2['Type'] == 'Free'].values\n",
    "for i in dfNew3:\n",
    "    print (i[0])"
   ],
   "metadata": {
    "collapsed": false
   }
  }
 ],
 "metadata": {
  "kernelspec": {
   "display_name": "Python 3",
   "language": "python",
   "name": "python3"
  },
  "language_info": {
   "codemirror_mode": {
    "name": "ipython",
    "version": 2
   },
   "file_extension": ".py",
   "mimetype": "text/x-python",
   "name": "python",
   "nbconvert_exporter": "python",
   "pygments_lexer": "ipython2",
   "version": "2.7.6"
  }
 },
 "nbformat": 4,
 "nbformat_minor": 0
}
