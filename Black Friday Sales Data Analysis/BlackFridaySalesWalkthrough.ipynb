{
 "cells": [
  {
   "cell_type": "code",
   "execution_count": 2,
   "metadata": {
    "collapsed": true
   },
   "outputs": [],
   "source": [
    "import pandas as pd\n",
    "import numpy as np\n",
    "import seaborn as sns"
   ]
  },
  {
   "cell_type": "code",
   "execution_count": 3,
   "outputs": [
    {
     "name": "stdout",
     "output_type": "stream",
     "text": [
      "<class 'pandas.core.frame.DataFrame'>\n",
      "RangeIndex: 537577 entries, 0 to 537576\n",
      "Data columns (total 12 columns):\n",
      " #   Column                      Non-Null Count   Dtype  \n",
      "---  ------                      --------------   -----  \n",
      " 0   User_ID                     537577 non-null  int64  \n",
      " 1   Product_ID                  537577 non-null  object \n",
      " 2   Gender                      537577 non-null  object \n",
      " 3   Age                         537577 non-null  object \n",
      " 4   Occupation                  537577 non-null  int64  \n",
      " 5   City_Category               537577 non-null  object \n",
      " 6   Stay_In_Current_City_Years  537577 non-null  object \n",
      " 7   Marital_Status              537577 non-null  int64  \n",
      " 8   Product_Category_1          537577 non-null  int64  \n",
      " 9   Product_Category_2          370591 non-null  float64\n",
      " 10  Product_Category_3          164278 non-null  float64\n",
      " 11  Purchase                    537577 non-null  int64  \n",
      "dtypes: float64(2), int64(5), object(5)\n",
      "memory usage: 49.2+ MB\n"
     ]
    }
   ],
   "source": [
    "df = pd.read_csv('BlackFriday.csv')\n",
    "df.info()"
   ],
   "metadata": {
    "collapsed": false
   }
  },
  {
   "cell_type": "code",
   "execution_count": 4,
   "outputs": [
    {
     "data": {
      "text/plain": "   User_ID Product_ID Gender   Age  Occupation City_Category  \\\n0  1000001  P00069042      F  0-17          10             A   \n1  1000001  P00248942      F  0-17          10             A   \n2  1000001  P00087842      F  0-17          10             A   \n3  1000001  P00085442      F  0-17          10             A   \n4  1000002  P00285442      M   55+          16             C   \n\n  Stay_In_Current_City_Years  Marital_Status  Product_Category_1  \\\n0                          2               0                   3   \n1                          2               0                   1   \n2                          2               0                  12   \n3                          2               0                  12   \n4                         4+               0                   8   \n\n   Product_Category_2  Product_Category_3  Purchase  \n0                 NaN                 NaN      8370  \n1                 6.0                14.0     15200  \n2                 NaN                 NaN      1422  \n3                14.0                 NaN      1057  \n4                 NaN                 NaN      7969  ",
      "text/html": "<div>\n<style scoped>\n    .dataframe tbody tr th:only-of-type {\n        vertical-align: middle;\n    }\n\n    .dataframe tbody tr th {\n        vertical-align: top;\n    }\n\n    .dataframe thead th {\n        text-align: right;\n    }\n</style>\n<table border=\"1\" class=\"dataframe\">\n  <thead>\n    <tr style=\"text-align: right;\">\n      <th></th>\n      <th>User_ID</th>\n      <th>Product_ID</th>\n      <th>Gender</th>\n      <th>Age</th>\n      <th>Occupation</th>\n      <th>City_Category</th>\n      <th>Stay_In_Current_City_Years</th>\n      <th>Marital_Status</th>\n      <th>Product_Category_1</th>\n      <th>Product_Category_2</th>\n      <th>Product_Category_3</th>\n      <th>Purchase</th>\n    </tr>\n  </thead>\n  <tbody>\n    <tr>\n      <th>0</th>\n      <td>1000001</td>\n      <td>P00069042</td>\n      <td>F</td>\n      <td>0-17</td>\n      <td>10</td>\n      <td>A</td>\n      <td>2</td>\n      <td>0</td>\n      <td>3</td>\n      <td>NaN</td>\n      <td>NaN</td>\n      <td>8370</td>\n    </tr>\n    <tr>\n      <th>1</th>\n      <td>1000001</td>\n      <td>P00248942</td>\n      <td>F</td>\n      <td>0-17</td>\n      <td>10</td>\n      <td>A</td>\n      <td>2</td>\n      <td>0</td>\n      <td>1</td>\n      <td>6.0</td>\n      <td>14.0</td>\n      <td>15200</td>\n    </tr>\n    <tr>\n      <th>2</th>\n      <td>1000001</td>\n      <td>P00087842</td>\n      <td>F</td>\n      <td>0-17</td>\n      <td>10</td>\n      <td>A</td>\n      <td>2</td>\n      <td>0</td>\n      <td>12</td>\n      <td>NaN</td>\n      <td>NaN</td>\n      <td>1422</td>\n    </tr>\n    <tr>\n      <th>3</th>\n      <td>1000001</td>\n      <td>P00085442</td>\n      <td>F</td>\n      <td>0-17</td>\n      <td>10</td>\n      <td>A</td>\n      <td>2</td>\n      <td>0</td>\n      <td>12</td>\n      <td>14.0</td>\n      <td>NaN</td>\n      <td>1057</td>\n    </tr>\n    <tr>\n      <th>4</th>\n      <td>1000002</td>\n      <td>P00285442</td>\n      <td>M</td>\n      <td>55+</td>\n      <td>16</td>\n      <td>C</td>\n      <td>4+</td>\n      <td>0</td>\n      <td>8</td>\n      <td>NaN</td>\n      <td>NaN</td>\n      <td>7969</td>\n    </tr>\n  </tbody>\n</table>\n</div>"
     },
     "execution_count": 4,
     "metadata": {},
     "output_type": "execute_result"
    }
   ],
   "source": [
    "df.head()"
   ],
   "metadata": {
    "collapsed": false
   }
  },
  {
   "cell_type": "code",
   "execution_count": 5,
   "outputs": [
    {
     "data": {
      "text/plain": "count     537577\nunique         3\ntop            B\nfreq      226493\nName: City_Category, dtype: object"
     },
     "execution_count": 5,
     "metadata": {},
     "output_type": "execute_result"
    }
   ],
   "source": [
    "df['City_Category'].describe()"
   ],
   "metadata": {
    "collapsed": false
   }
  },
  {
   "cell_type": "code",
   "execution_count": 6,
   "outputs": [
    {
     "data": {
      "text/plain": "array(['A', 'C', 'B'], dtype=object)"
     },
     "execution_count": 6,
     "metadata": {},
     "output_type": "execute_result"
    }
   ],
   "source": [
    "df['City_Category'].unique()"
   ],
   "metadata": {
    "collapsed": false
   }
  },
  {
   "cell_type": "code",
   "execution_count": 7,
   "outputs": [
    {
     "data": {
      "text/plain": "City_Category\nA    144638\nB    226493\nC    166446\ndtype: int64"
     },
     "execution_count": 7,
     "metadata": {},
     "output_type": "execute_result"
    }
   ],
   "source": [
    "df.groupby(['City_Category']).size()"
   ],
   "metadata": {
    "collapsed": false
   }
  },
  {
   "cell_type": "code",
   "execution_count": 8,
   "outputs": [
    {
     "data": {
      "text/plain": "User_ID                            0\nProduct_ID                         0\nGender                             0\nAge                                0\nOccupation                         0\nCity_Category                      0\nStay_In_Current_City_Years         0\nMarital_Status                     0\nProduct_Category_1                 0\nProduct_Category_2            166986\nProduct_Category_3            373299\nPurchase                           0\ndtype: int64"
     },
     "execution_count": 8,
     "metadata": {},
     "output_type": "execute_result"
    }
   ],
   "source": [
    "df.isnull().sum()"
   ],
   "metadata": {
    "collapsed": false
   }
  },
  {
   "cell_type": "code",
   "execution_count": 9,
   "outputs": [],
   "source": [
    "del(df['Product_Category_2'])\n",
    "del(df['Product_Category_3'])"
   ],
   "metadata": {
    "collapsed": false
   }
  },
  {
   "cell_type": "code",
   "execution_count": 10,
   "outputs": [
    {
     "name": "stdout",
     "output_type": "stream",
     "text": [
      "<class 'pandas.core.frame.DataFrame'>\n",
      "RangeIndex: 537577 entries, 0 to 537576\n",
      "Data columns (total 10 columns):\n",
      " #   Column                      Non-Null Count   Dtype \n",
      "---  ------                      --------------   ----- \n",
      " 0   User_ID                     537577 non-null  int64 \n",
      " 1   Product_ID                  537577 non-null  object\n",
      " 2   Gender                      537577 non-null  object\n",
      " 3   Age                         537577 non-null  object\n",
      " 4   Occupation                  537577 non-null  int64 \n",
      " 5   City_Category               537577 non-null  object\n",
      " 6   Stay_In_Current_City_Years  537577 non-null  object\n",
      " 7   Marital_Status              537577 non-null  int64 \n",
      " 8   Product_Category_1          537577 non-null  int64 \n",
      " 9   Purchase                    537577 non-null  int64 \n",
      "dtypes: int64(5), object(5)\n",
      "memory usage: 41.0+ MB\n"
     ]
    }
   ],
   "source": [
    "df.info()"
   ],
   "metadata": {
    "collapsed": false
   }
  },
  {
   "cell_type": "code",
   "execution_count": 12,
   "outputs": [
    {
     "data": {
      "text/plain": "5891"
     },
     "execution_count": 12,
     "metadata": {},
     "output_type": "execute_result"
    }
   ],
   "source": [
    "df['User_ID'].nunique()"
   ],
   "metadata": {
    "collapsed": false
   }
  },
  {
   "cell_type": "code",
   "execution_count": 16,
   "outputs": [
    {
     "data": {
      "text/plain": "<AxesSubplot:ylabel='None'>"
     },
     "execution_count": 16,
     "metadata": {},
     "output_type": "execute_result"
    },
    {
     "data": {
      "text/plain": "<Figure size 432x288 with 1 Axes>",
      "image/png": "[encoded data removed]"
     },
     "metadata": {},
     "output_type": "display_data"
    }
   ],
   "source": [
    "df.groupby(['Gender']).size().plot(kind= \"pie\", autopct = \"%.0f\")"
   ],
   "metadata": {
    "collapsed": false
   }
  }
 ],
 "metadata": {
  "kernelspec": {
   "display_name": "Python 3",
   "language": "python",
   "name": "python3"
  },
  "language_info": {
   "codemirror_mode": {
    "name": "ipython",
    "version": 2
   },
   "file_extension": ".py",
   "mimetype": "text/x-python",
   "name": "python",
   "nbconvert_exporter": "python",
   "pygments_lexer": "ipython2",
   "version": "2.7.6"
  }
 },
 "nbformat": 4,
 "nbformat_minor": 0
}
